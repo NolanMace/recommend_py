{
 "cells": [
  {
   "cell_type": "code",
   "execution_count": 1,
   "id": "edaae7ec",
   "metadata": {},
   "outputs": [],
   "source": [
    "# -*- coding: utf-8 -*-\n",
    "\"\"\"\n",
    "推荐系统全局配置\n",
    "\"\"\"\n",
    "\n",
    "MYSQL_CONFIG = {\n",
    "    'host': 'localhost',      # 数据库地址\n",
    "    'port': 3306,             # 数据库端口（必须明确指定）\n",
    "    'user': 'recommend_user', # 专用数据库账号（非root）\n",
    "    'password': 'SafePass123!',  # 密码需包含特殊字符\n",
    "    'database': 'recommend_db',   # 数据库名\n",
    "    'charset': 'utf8mb4',     # 支持中文及表情符号\n",
    "    'autocommit': True,       # 自动提交事务\n",
    "    'connect_timeout': 10,    # 连接超时时间（秒）\n",
    "    'cursorclass': 'DictCursor'  # 返回字典格式结果\n",
    "}\n",
    "\n",
    "# 连接池配置（单独定义）\n",
    "POOL_CONFIG = {\n",
    "    'mincached': 2,    # 初始空闲连接\n",
    "    'maxcached': 5,    # 最大空闲连接\n",
    "    'maxconnections': 20,  # 最大活跃连接\n",
    "    'blocking': True   # 连接池满时等待\n",
    "}\n",
    "\n",
    "# 行为权重配置\n",
    "BEHAVIOR_WEIGHTS = {\n",
    "    'view': 1,\n",
    "    'click': 2,\n",
    "    'like': 3,\n",
    "    'collect': 4,\n",
    "    'comment': 5\n",
    "}\n",
    "\n",
    "# TF-IDF特征配置\n",
    "TFIDF_PARAMS = {\n",
    "    'max_features': 1000,\n",
    "    'stop_words': 'english'\n",
    "}\n",
    "\n",
    "# 推荐策略配置\n",
    "RECOMMEND_CONFIG = {\n",
    "    'top_n': 100,          # 推荐数量\n",
    "    'hot_days': 7,        # 热门帖子计算天数\n",
    "    'recent_days': 30     # 用户行为有效期\n",
    "}\n"
   ]
  },
  {
   "cell_type": "code",
   "execution_count": null,
   "id": "0aefd81c",
   "metadata": {},
   "outputs": [],
   "source": []
  }
 ],
 "metadata": {
  "kernelspec": {
   "display_name": "Python 3 (ipykernel)",
   "language": "python",
   "name": "python3"
  },
  "language_info": {
   "codemirror_mode": {
    "name": "ipython",
    "version": 3
   },
   "file_extension": ".py",
   "mimetype": "text/x-python",
   "name": "python",
   "nbconvert_exporter": "python",
   "pygments_lexer": "ipython3",
   "version": "3.11.5"
  }
 },
 "nbformat": 4,
 "nbformat_minor": 5
}
